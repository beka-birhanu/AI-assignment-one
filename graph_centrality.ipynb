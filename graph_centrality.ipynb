{
 "cells": [
  {
   "cell_type": "code",
   "execution_count": 1,
   "metadata": {},
   "outputs": [],
   "source": [
    "import numpy\n",
    "def adjacency_matrix(graph):\n",
    "        node_names = list(graph.nodes.keys())\n",
    "        adj_matrix = numpy.zeros((len(node_names), len(node_names)))\n",
    "        \n",
    "        # Construct the adjacency matrix\n",
    "        for i, node_name in enumerate(node_names):\n",
    "            node = graph.nodes[node_name]\n",
    "            for neighbor_name, weight in node.neighbours:\n",
    "                j = node_names.index(neighbor_name)\n",
    "                adj_matrix[i, j] = weight\n",
    "            \n",
    "        return adj_matrix"
   ]
  },
  {
   "cell_type": "markdown",
   "metadata": {},
   "source": [
    "A function that converts the graph expression to adjecency Matrix"
   ]
  },
  {
   "cell_type": "code",
   "execution_count": 2,
   "metadata": {},
   "outputs": [],
   "source": [
    "def degree_centrality(graph):\n",
    "        degree_centralities = {}\n",
    "        number_of_nodes = len(graph.nodes)\n",
    "        \n",
    "       \n",
    "        for node in graph.nodes:\n",
    "            degree_centralities[node] = len(graph.nodes[node].neighbours)/number_of_nodes\n",
    "        \n",
    "        top_degree_centralities = []\n",
    "        top = max(degree_centralities.values())\n",
    "\n",
    "        for centrality in degree_centralities:\n",
    "            if degree_centralities[centrality] == top:\n",
    "                top_degree_centralities.append(centrality)\n",
    "        \n",
    "\n",
    "        return degree_centralities,top_degree_centralities"
   ]
  },
  {
   "cell_type": "markdown",
   "metadata": {},
   "source": [
    "A function that calculates degree centrality"
   ]
  },
  {
   "cell_type": "code",
   "execution_count": 3,
   "metadata": {},
   "outputs": [],
   "source": [
    "def floyd_warshall(adj_matrix):\n",
    "        n = len(adj_matrix)\n",
    "        dist = [[float('inf') if i != j and adj_matrix[i][j] == 0 else adj_matrix[i][j] for j in range(n)] for i in range(n)]\n",
    "        \n",
    "        for k in range(n):\n",
    "            for i in range(n):\n",
    "                for j in range(n):\n",
    "                    dist[i][j] = min(dist[i][j], dist[i][k] + dist[k][j])\n",
    "        \n",
    "        return dist\n",
    "\n",
    "def closeness_centrality(graph):\n",
    "    adj_matrix = adjacency_matrix(graph)\n",
    "    nodes = list(graph.nodes.keys())\n",
    "    dist_matrix = floyd_warshall(adj_matrix)\n",
    "    n = len(adj_matrix)\n",
    "    centralities = []\n",
    "    \n",
    "    for i in range(n):\n",
    "        reachable_nodes = sum(1 for d in dist_matrix[i] if d != float('inf') and d != 0)\n",
    "        total_distance = sum(d for d in dist_matrix[i] if d != float('inf') and d != 0)\n",
    "        \n",
    "        if total_distance == 0:\n",
    "            centralities.append(0.0)\n",
    "        else:\n",
    "            centralities.append(reachable_nodes / total_distance)\n",
    "    \n",
    "    topcloseness_centralities = []\n",
    "    top = max(centralities)\n",
    "\n",
    "    for i in range(len(centralities)):\n",
    "        if centralities[i]== top:\n",
    "            topcloseness_centralities.append(nodes[i])\n",
    "    \n",
    "\n",
    "    \n",
    "    return centralities,topcloseness_centralities"
   ]
  },
  {
   "cell_type": "markdown",
   "metadata": {},
   "source": [
    "A function that calculates closeness centrality."
   ]
  },
  {
   "cell_type": "code",
   "execution_count": 4,
   "metadata": {},
   "outputs": [],
   "source": [
    "def eigenvector_centrality(graph,iter=200,tolerance=1e-6):\n",
    "        nodes = list(graph.nodes.keys())\n",
    "        adj_matrix = adjacency_matrix(graph)\n",
    "        centrality_scores = numpy.ones(len(nodes))\n",
    "        centrality_scores /= numpy.linalg.norm(centrality_scores)\n",
    "        \n",
    "        \n",
    "        for i in range(iter):\n",
    "            new_centrality = numpy.dot(adj_matrix, centrality_scores)\n",
    "\n",
    "         \n",
    "            new_centrality /= numpy.linalg.norm(new_centrality)\n",
    "\n",
    "           \n",
    "            if numpy.linalg.norm(new_centrality - centrality_scores, 2) < tolerance:\n",
    "                break\n",
    "\n",
    "            centrality_scores = new_centrality\n",
    "\n",
    "        top_eigenvector_centralities = []\n",
    "        top = max(centrality_scores)\n",
    "\n",
    "        for i in range(len(centrality_scores)):\n",
    "            if centrality_scores[i] == top:\n",
    "                top_eigenvector_centralities.append(nodes[i])\n",
    "        \n",
    "\n",
    "        \n",
    "        return centrality_scores,top_eigenvector_centralities"
   ]
  },
  {
   "cell_type": "markdown",
   "metadata": {},
   "source": [
    "A function that calculates eiganvector centrality."
   ]
  },
  {
   "cell_type": "code",
   "execution_count": 5,
   "metadata": {},
   "outputs": [],
   "source": [
    "def pagerank_centrality(graph, d=0.85, max_iter=100, tolerance=1e-6):\n",
    "        nodes = list(graph.nodes.keys())\n",
    "        \n",
    "        adj_matrix = numpy.array(adjacency_matrix(graph))\n",
    "        n = len(adj_matrix)\n",
    "\n",
    "        centrality_scores = numpy.ones(n) / n\n",
    "\n",
    "        for i in range(max_iter):\n",
    "           \n",
    "            sums = adj_matrix.sum(axis=1, keepdims=True)\n",
    "            transition_matrix = numpy.where(sums != 0, adj_matrix / sums, 1 / n)\n",
    "\n",
    "            \n",
    "            new_centrality_scores = (1 - d) / n + d * numpy.dot(transition_matrix.T, centrality_scores)\n",
    "\n",
    "           \n",
    "            if numpy.linalg.norm(new_centrality_scores - centrality_scores, 2) < tolerance:\n",
    "                break\n",
    "\n",
    "            pagerank_scores = new_centrality_scores\n",
    "\n",
    "        top_pagerank_centralities = []\n",
    "        top = max(pagerank_scores)\n",
    "\n",
    "        for i in range(len(pagerank_scores)):\n",
    "            if pagerank_scores[i] == top:\n",
    "                top_pagerank_centralities.append(nodes[i])\n",
    "        \n",
    "\n",
    "        return pagerank_scores,top_pagerank_centralities"
   ]
  },
  {
   "cell_type": "markdown",
   "metadata": {},
   "source": [
    "A function that calculates page rank centrality."
   ]
  },
  {
   "cell_type": "code",
   "execution_count": 6,
   "metadata": {},
   "outputs": [],
   "source": [
    "def katz_centrality(graph, a=0.1, b=1.0, max_iter=100, tol=1e-6):\n",
    "        \n",
    "        adj_matrix = adjacency_matrix(graph)\n",
    "        nodes = list(graph.nodes.keys())\n",
    "        n = len(nodes)\n",
    "        \n",
    "    \n",
    "        katz_centrality = numpy.zeros(n)\n",
    "        b = numpy.full(n, b)\n",
    "\n",
    "        for _ in range(max_iter):\n",
    "            \n",
    "            new_centrality = a * numpy.dot(adj_matrix, katz_centrality) + b\n",
    "\n",
    "            if numpy.linalg.norm(new_centrality - katz_centrality, 2) < tol:\n",
    "                break\n",
    "\n",
    "            katz_centrality = new_centrality\n",
    "\n",
    "        katz_centrality /= numpy.linalg.norm(katz_centrality)\n",
    "        \n",
    "\n",
    "        top = max(katz_centrality)\n",
    "        top_katz_centralities = []\n",
    "        for i in range(len(katz_centrality)):\n",
    "            if katz_centrality[i] == top:\n",
    "                top_katz_centralities.append(nodes[i])\n",
    "                \n",
    "        return katz_centrality,top_katz_centralities"
   ]
  },
  {
   "cell_type": "markdown",
   "metadata": {},
   "source": [
    "A function that calculates katz centrality."
   ]
  },
  {
   "cell_type": "code",
   "execution_count": 7,
   "metadata": {},
   "outputs": [],
   "source": [
    "def betweenness_centrality(graph):\n",
    "\n",
    "        adj_matrix = adjacency_matrix(graph)\n",
    "        vertices = list(graph.nodes.keys())\n",
    "        n = len(vertices)\n",
    "        \n",
    "        betweenness = numpy.zeros(n)\n",
    "        \n",
    "        for i in range(n):  \n",
    "            stack = []  # Stack for DFS\n",
    "            predecessors = [[] for _ in range(n)]  \n",
    "            num_shortest_paths = numpy.zeros(n) \n",
    "            distance = numpy.full(n, -1)\n",
    "            distance[i] = 0 \n",
    "            num_shortest_paths[i] = 1 \n",
    "\n",
    "            queue = [i]\n",
    "            while queue:\n",
    "                v = queue.pop(0)\n",
    "                stack.append(v)\n",
    "                for w in range(n):\n",
    "                    if adj_matrix[v][w] != 0: \n",
    "                        if distance[w] < 0: \n",
    "                            queue.append(w)\n",
    "                            distance[w] = distance[v] + 1\n",
    "                        if distance[w] == distance[v] + 1:  \n",
    "                            num_shortest_paths[w] += num_shortest_paths[v]\n",
    "                            predecessors[w].append(v)\n",
    "\n",
    "            \n",
    "            delta = numpy.zeros(n)  \n",
    "            while stack:\n",
    "                w = stack.pop()\n",
    "                for v in predecessors[w]:\n",
    "                    delta[v] += (num_shortest_paths[v] / num_shortest_paths[w]) * (1 + delta[w])\n",
    "                if w != i:\n",
    "                    betweenness[w] += delta[w]\n",
    "\n",
    "        \n",
    "      \n",
    "        max_betweenness = numpy.max(betweenness)\n",
    "        if max_betweenness > 0:\n",
    "            betweenness /= max_betweenness\n",
    "\n",
    "    \n",
    "        top_betweenness_centrality_nodes = [vertices[i] for i in range(n) if betweenness[i] == numpy.max(betweenness)]\n",
    "\n",
    "        return betweenness,top_betweenness_centrality_nodes"
   ]
  },
  {
   "cell_type": "markdown",
   "metadata": {},
   "source": [
    "A function that calculates betweeness centrality."
   ]
  }
 ],
 "metadata": {
  "kernelspec": {
   "display_name": "Python 3",
   "language": "python",
   "name": "python3"
  },
  "language_info": {
   "codemirror_mode": {
    "name": "ipython",
    "version": 3
   },
   "file_extension": ".py",
   "mimetype": "text/x-python",
   "name": "python",
   "nbconvert_exporter": "python",
   "pygments_lexer": "ipython3",
   "version": "3.10.12"
  }
 },
 "nbformat": 4,
 "nbformat_minor": 2
}
