{
 "cells": [
  {
   "cell_type": "code",
   "execution_count": 45,
   "metadata": {},
   "outputs": [
    {
     "name": "stdout",
     "output_type": "stream",
     "text": [
      "[[0, 1, 0, 0, 0, 0, 0, 0, 1, 0, 0, 0, 0, 0, 0, 0, 0, 0, 0, 0], [1, 0, 1, 0, 0, 0, 0, 0, 0, 0, 0, 0, 0, 0, 0, 0, 0, 0, 0, 0], [0, 1, 0, 1, 0, 0, 0, 0, 1, 0, 0, 0, 0, 0, 0, 0, 0, 0, 0, 0], [0, 0, 1, 0, 1, 0, 0, 0, 0, 0, 0, 0, 0, 0, 0, 0, 0, 0, 0, 0], [0, 0, 0, 1, 0, 1, 0, 0, 0, 0, 0, 0, 0, 0, 0, 0, 0, 0, 0, 0], [0, 0, 0, 0, 1, 0, 1, 0, 0, 0, 0, 0, 0, 0, 0, 0, 0, 0, 0, 0], [0, 0, 0, 0, 0, 1, 0, 1, 0, 0, 0, 0, 0, 0, 0, 0, 0, 0, 0, 0], [0, 0, 0, 0, 0, 0, 1, 0, 0, 1, 0, 1, 0, 0, 0, 0, 0, 0, 0, 0], [1, 0, 1, 0, 0, 0, 0, 0, 0, 1, 1, 0, 0, 0, 0, 0, 0, 0, 0, 0], [0, 0, 0, 0, 0, 0, 0, 1, 1, 0, 0, 1, 0, 0, 0, 0, 0, 0, 0, 0], [0, 0, 0, 0, 0, 0, 0, 0, 1, 0, 0, 0, 0, 1, 0, 0, 0, 0, 0, 0], [0, 0, 0, 0, 0, 0, 0, 1, 0, 1, 0, 0, 0, 1, 0, 0, 0, 0, 0, 0], [0, 0, 0, 0, 0, 0, 0, 0, 0, 0, 0, 0, 0, 1, 0, 0, 0, 0, 0, 0], [0, 0, 0, 0, 0, 0, 0, 0, 0, 0, 1, 1, 1, 0, 1, 0, 0, 0, 0, 0], [0, 0, 0, 0, 0, 0, 0, 0, 0, 0, 0, 0, 0, 1, 0, 0, 1, 1, 0, 0], [0, 0, 0, 0, 0, 0, 0, 0, 0, 0, 0, 0, 0, 0, 0, 0, 1, 0, 0, 0], [0, 0, 0, 0, 0, 0, 0, 0, 0, 0, 0, 0, 0, 0, 1, 1, 0, 0, 0, 0], [0, 0, 0, 0, 0, 0, 0, 0, 0, 0, 0, 0, 0, 0, 1, 0, 0, 0, 1, 0], [0, 0, 0, 0, 0, 0, 0, 0, 0, 0, 0, 0, 0, 0, 0, 0, 0, 1, 0, 1], [0, 0, 0, 0, 0, 0, 0, 0, 0, 0, 0, 0, 0, 0, 0, 0, 0, 0, 1, 0]]\n"
     ]
    },
    {
     "data": {
      "text/plain": [
       "([[0, 1, 0, 0, 0, 0, 0, 0, 1, 0, 0, 0, 0, 0, 0, 0, 0, 0, 0, 0],\n",
       "  [1, 0, 1, 0, 0, 0, 0, 0, 0, 0, 0, 0, 0, 0, 0, 0, 0, 0, 0, 0],\n",
       "  [0, 1, 0, 1, 0, 0, 0, 0, 1, 0, 0, 0, 0, 0, 0, 0, 0, 0, 0, 0],\n",
       "  [0, 0, 1, 0, 1, 0, 0, 0, 0, 0, 0, 0, 0, 0, 0, 0, 0, 0, 0, 0],\n",
       "  [0, 0, 0, 1, 0, 1, 0, 0, 0, 0, 0, 0, 0, 0, 0, 0, 0, 0, 0, 0],\n",
       "  [0, 0, 0, 0, 1, 0, 1, 0, 0, 0, 0, 0, 0, 0, 0, 0, 0, 0, 0, 0],\n",
       "  [0, 0, 0, 0, 0, 1, 0, 1, 0, 0, 0, 0, 0, 0, 0, 0, 0, 0, 0, 0],\n",
       "  [0, 0, 0, 0, 0, 0, 1, 0, 0, 1, 0, 1, 0, 0, 0, 0, 0, 0, 0, 0],\n",
       "  [1, 0, 1, 0, 0, 0, 0, 0, 0, 1, 1, 0, 0, 0, 0, 0, 0, 0, 0, 0],\n",
       "  [0, 0, 0, 0, 0, 0, 0, 1, 1, 0, 0, 1, 0, 0, 0, 0, 0, 0, 0, 0],\n",
       "  [0, 0, 0, 0, 0, 0, 0, 0, 1, 0, 0, 0, 0, 1, 0, 0, 0, 0, 0, 0],\n",
       "  [0, 0, 0, 0, 0, 0, 0, 1, 0, 1, 0, 0, 0, 1, 0, 0, 0, 0, 0, 0],\n",
       "  [0, 0, 0, 0, 0, 0, 0, 0, 0, 0, 0, 0, 0, 1, 0, 0, 0, 0, 0, 0],\n",
       "  [0, 0, 0, 0, 0, 0, 0, 0, 0, 0, 1, 1, 1, 0, 1, 0, 0, 0, 0, 0],\n",
       "  [0, 0, 0, 0, 0, 0, 0, 0, 0, 0, 0, 0, 0, 1, 0, 0, 1, 1, 0, 0],\n",
       "  [0, 0, 0, 0, 0, 0, 0, 0, 0, 0, 0, 0, 0, 0, 0, 0, 1, 0, 0, 0],\n",
       "  [0, 0, 0, 0, 0, 0, 0, 0, 0, 0, 0, 0, 0, 0, 1, 1, 0, 0, 0, 0],\n",
       "  [0, 0, 0, 0, 0, 0, 0, 0, 0, 0, 0, 0, 0, 0, 1, 0, 0, 0, 1, 0],\n",
       "  [0, 0, 0, 0, 0, 0, 0, 0, 0, 0, 0, 0, 0, 0, 0, 0, 0, 1, 0, 1],\n",
       "  [0, 0, 0, 0, 0, 0, 0, 0, 0, 0, 0, 0, 0, 0, 0, 0, 0, 0, 1, 0]],\n",
       " ['Oradea',\n",
       "  'Zerind',\n",
       "  'Arad',\n",
       "  'Timisoara',\n",
       "  'Lugoj',\n",
       "  'Mehadia',\n",
       "  'Drobeta',\n",
       "  'Craiova',\n",
       "  'Sibiu',\n",
       "  'Rimnicu_Vilcea',\n",
       "  'Fagaras',\n",
       "  'Pitesti',\n",
       "  'Giurgiu',\n",
       "  'Bucharest',\n",
       "  'Urziceni',\n",
       "  'Eforie',\n",
       "  'Hirsova',\n",
       "  'Vaslui',\n",
       "  'Iasi',\n",
       "  'Neamt'])"
      ]
     },
     "execution_count": 45,
     "metadata": {},
     "output_type": "execute_result"
    }
   ],
   "source": [
    "import numpy\n",
    "from collections import deque\n",
    "import romania\n",
    "def adjacency_matrix(graph):\n",
    "        n = len(graph.nodes)\n",
    "\n",
    "        nodes = list(graph.nodes.keys())\n",
    "        adj_matrix = [[0 for i in range(n)] for j in range(n)]\n",
    "        \n",
    "        for node in graph.nodes.values():\n",
    "            row_index = nodes.index(node.name)\n",
    "            for neighbor,weight in node.neighbours:\n",
    "                col_index = nodes.index(neighbor)\n",
    "                adj_matrix[row_index][col_index] = 1\n",
    "        \n",
    "        \n",
    "        return adj_matrix,nodes\n"
   ]
  },
  {
   "cell_type": "markdown",
   "metadata": {},
   "source": [
    "A function that converts the graph expression to adjecency Matrix"
   ]
  },
  {
   "cell_type": "code",
   "execution_count": 113,
   "metadata": {},
   "outputs": [
    {
     "name": "stdout",
     "output_type": "stream",
     "text": [
      "({'Oradea': 0.1, 'Zerind': 0.1, 'Arad': 0.15, 'Timisoara': 0.1, 'Lugoj': 0.1, 'Mehadia': 0.1, 'Drobeta': 0.1, 'Craiova': 0.15, 'Sibiu': 0.2, 'Rimnicu_Vilcea': 0.15, 'Fagaras': 0.1, 'Pitesti': 0.15, 'Giurgiu': 0.05, 'Bucharest': 0.2, 'Urziceni': 0.15, 'Eforie': 0.05, 'Hirsova': 0.1, 'Vaslui': 0.1, 'Iasi': 0.1, 'Neamt': 0.05}, ['Sibiu', 'Bucharest'])\n"
     ]
    }
   ],
   "source": [
    "def degree_centrality(graph):\n",
    "        degree_centralities = {}\n",
    "        number_of_nodes = len(graph.nodes)\n",
    "        \n",
    "       \n",
    "        for node in graph.nodes:\n",
    "            degree_centralities[node] = len(graph.nodes[node].neighbours)/number_of_nodes\n",
    "        \n",
    "        top_degree_centralities = []\n",
    "        top = max(degree_centralities.values())\n",
    "\n",
    "        for centrality in degree_centralities:\n",
    "            if degree_centralities[centrality] == top:\n",
    "                top_degree_centralities.append(centrality)\n",
    "        \n",
    "\n",
    "        return degree_centralities,top_degree_centralities\n",
    "print(degree_centrality(romania.romania))"
   ]
  },
  {
   "cell_type": "markdown",
   "metadata": {},
   "source": [
    "A function that calculates degree centrality"
   ]
  },
  {
   "cell_type": "code",
   "execution_count": 132,
   "metadata": {},
   "outputs": [
    {
     "name": "stdout",
     "output_type": "stream",
     "text": [
      "([0.002332433095998036, 0.002197547999074717, 0.00255170561375235, 0.002170436371944254, 0.0021687022029448695, 0.002287778446718844, 0.0024733142410830514, 0.002938447262604392, 0.003023070803500398, 0.003294607248135946, 0.002819409407924024, 0.0034289839379173436, 0.0025242460475621096, 0.003216522769595395, 0.002884469409442842, 0.0019581572709471296, 0.0023298589822194973, 0.002215743440233236, 0.0018911117746591023, 0.0016360974769654697], [('Pitesti', 0.0034289839379173436)])\n"
     ]
    }
   ],
   "source": [
    "\n",
    "\n",
    "def closeness_centrality(graph):\n",
    "    node_names=[node for node in graph.nodes]\n",
    "    closeness_scores = [0 for i in range(len(node_names))]\n",
    "    \n",
    "    close=0\n",
    "    for i in range(len(node_names)):\n",
    "        distances = {node: float('inf') for node in graph.nodes}\n",
    "        distances[node_names[i]] = 0 \n",
    "        \n",
    "        queue = [node_names[i]]\n",
    "        while queue:\n",
    "            curr_node = queue.pop(0)\n",
    "            for neighbor,cost in graph.nodes[curr_node].neighbours:\n",
    "                total_dist= distances[curr_node] + cost\n",
    "                if distances[neighbor] == float('inf'):\n",
    "                    distances[neighbor]=total_dist\n",
    "                    queue.append(neighbor)\n",
    "                if distances[neighbor]>total_dist:\n",
    "                    distances[neighbor]=total_dist\n",
    "        \n",
    "        distance = distances\n",
    "        sum_distances = sum(distance.values())\n",
    "        closeness_scores[i] = (len(node_names) - 1) / sum_distances\n",
    "        if closeness_scores[i]>close:\n",
    "            close=closeness_scores[i]\n",
    "    top_ranked = []\n",
    "    maximum = max(closeness_scores)\n",
    "    for i in range(len(closeness_scores)):\n",
    "        if closeness_scores[i] == maximum:\n",
    "            top_ranked.append((node_names[i], closeness_scores[i]))\n",
    "            \n",
    "    return closeness_scores, top_ranked\n",
    "print(closeness_centrality(romania.romania))"
   ]
  },
  {
   "cell_type": "markdown",
   "metadata": {},
   "source": [
    "A function that calculates closeness centrality."
   ]
  },
  {
   "cell_type": "code",
   "execution_count": 131,
   "metadata": {},
   "outputs": [
    {
     "name": "stdout",
     "output_type": "stream",
     "text": [
      "[[0, 1, 0, 0, 0, 0, 0, 0, 1, 0, 0, 0, 0, 0, 0, 0, 0, 0, 0, 0], [1, 0, 1, 0, 0, 0, 0, 0, 0, 0, 0, 0, 0, 0, 0, 0, 0, 0, 0, 0], [0, 1, 0, 1, 0, 0, 0, 0, 1, 0, 0, 0, 0, 0, 0, 0, 0, 0, 0, 0], [0, 0, 1, 0, 1, 0, 0, 0, 0, 0, 0, 0, 0, 0, 0, 0, 0, 0, 0, 0], [0, 0, 0, 1, 0, 1, 0, 0, 0, 0, 0, 0, 0, 0, 0, 0, 0, 0, 0, 0], [0, 0, 0, 0, 1, 0, 1, 0, 0, 0, 0, 0, 0, 0, 0, 0, 0, 0, 0, 0], [0, 0, 0, 0, 0, 1, 0, 1, 0, 0, 0, 0, 0, 0, 0, 0, 0, 0, 0, 0], [0, 0, 0, 0, 0, 0, 1, 0, 0, 1, 0, 1, 0, 0, 0, 0, 0, 0, 0, 0], [1, 0, 1, 0, 0, 0, 0, 0, 0, 1, 1, 0, 0, 0, 0, 0, 0, 0, 0, 0], [0, 0, 0, 0, 0, 0, 0, 1, 1, 0, 0, 1, 0, 0, 0, 0, 0, 0, 0, 0], [0, 0, 0, 0, 0, 0, 0, 0, 1, 0, 0, 0, 0, 1, 0, 0, 0, 0, 0, 0], [0, 0, 0, 0, 0, 0, 0, 1, 0, 1, 0, 0, 0, 1, 0, 0, 0, 0, 0, 0], [0, 0, 0, 0, 0, 0, 0, 0, 0, 0, 0, 0, 0, 1, 0, 0, 0, 0, 0, 0], [0, 0, 0, 0, 0, 0, 0, 0, 0, 0, 1, 1, 1, 0, 1, 0, 0, 0, 0, 0], [0, 0, 0, 0, 0, 0, 0, 0, 0, 0, 0, 0, 0, 1, 0, 0, 1, 1, 0, 0], [0, 0, 0, 0, 0, 0, 0, 0, 0, 0, 0, 0, 0, 0, 0, 0, 1, 0, 0, 0], [0, 0, 0, 0, 0, 0, 0, 0, 0, 0, 0, 0, 0, 0, 1, 1, 0, 0, 0, 0], [0, 0, 0, 0, 0, 0, 0, 0, 0, 0, 0, 0, 0, 0, 1, 0, 0, 0, 1, 0], [0, 0, 0, 0, 0, 0, 0, 0, 0, 0, 0, 0, 0, 0, 0, 0, 0, 1, 0, 1], [0, 0, 0, 0, 0, 0, 0, 0, 0, 0, 0, 0, 0, 0, 0, 0, 0, 0, 1, 0]]\n",
      "(array([0.19915817, 0.15715493, 0.23859534, 0.10985086, 0.06739319,\n",
      "       0.0778707 , 0.14951453, 0.33859819, 0.39759392, 0.40413334,\n",
      "       0.26560569, 0.38951121, 0.12286714, 0.34224313, 0.17532858,\n",
      "       0.02594044, 0.07225634, 0.07387344, 0.03044486, 0.01092981]), ['Rimnicu_Vilcea'])\n"
     ]
    }
   ],
   "source": [
    "\n",
    "\n",
    "def eigenvector_centrality(graph, max_iterations=100, tolerance=1e-6):\n",
    "   \n",
    "    adj_matrix, node_names = adjacency_matrix(graph)\n",
    "    \n",
    "    centrality_values = numpy.ones(len(adj_matrix))\n",
    "    centrality_values /= numpy.linalg.norm(centrality_values)\n",
    "\n",
    "    for _ in range(max_iterations):\n",
    "        new_centrality = numpy.dot(adj_matrix, centrality_values)\n",
    "\n",
    "        new_centrality /= numpy.linalg.norm(new_centrality)\n",
    "\n",
    "        if numpy.linalg.norm(new_centrality - centrality_values, 2) < tolerance:\n",
    "            break\n",
    "\n",
    "        centrality_values = new_centrality\n",
    "\n",
    "    max_centrality = max(centrality_values)\n",
    "    top_centrality_nodes = []\n",
    "    for i in range(len(centrality_values)):\n",
    "        if centrality_values[i] == max_centrality:\n",
    "            top_centrality_nodes.append(node_names[i])\n",
    "\n",
    "    return centrality_values, top_centrality_nodes\n",
    "\n",
    "print(eigenvector_centrality(romania.romania))"
   ]
  },
  {
   "cell_type": "markdown",
   "metadata": {},
   "source": [
    "A function that calculates eiganvector centrality."
   ]
  },
  {
   "cell_type": "code",
   "execution_count": 125,
   "metadata": {},
   "outputs": [
    {
     "name": "stdout",
     "output_type": "stream",
     "text": [
      "[[0, 1, 0, 0, 0, 0, 0, 0, 1, 0, 0, 0, 0, 0, 0, 0, 0, 0, 0, 0], [1, 0, 1, 0, 0, 0, 0, 0, 0, 0, 0, 0, 0, 0, 0, 0, 0, 0, 0, 0], [0, 1, 0, 1, 0, 0, 0, 0, 1, 0, 0, 0, 0, 0, 0, 0, 0, 0, 0, 0], [0, 0, 1, 0, 1, 0, 0, 0, 0, 0, 0, 0, 0, 0, 0, 0, 0, 0, 0, 0], [0, 0, 0, 1, 0, 1, 0, 0, 0, 0, 0, 0, 0, 0, 0, 0, 0, 0, 0, 0], [0, 0, 0, 0, 1, 0, 1, 0, 0, 0, 0, 0, 0, 0, 0, 0, 0, 0, 0, 0], [0, 0, 0, 0, 0, 1, 0, 1, 0, 0, 0, 0, 0, 0, 0, 0, 0, 0, 0, 0], [0, 0, 0, 0, 0, 0, 1, 0, 0, 1, 0, 1, 0, 0, 0, 0, 0, 0, 0, 0], [1, 0, 1, 0, 0, 0, 0, 0, 0, 1, 1, 0, 0, 0, 0, 0, 0, 0, 0, 0], [0, 0, 0, 0, 0, 0, 0, 1, 1, 0, 0, 1, 0, 0, 0, 0, 0, 0, 0, 0], [0, 0, 0, 0, 0, 0, 0, 0, 1, 0, 0, 0, 0, 1, 0, 0, 0, 0, 0, 0], [0, 0, 0, 0, 0, 0, 0, 1, 0, 1, 0, 0, 0, 1, 0, 0, 0, 0, 0, 0], [0, 0, 0, 0, 0, 0, 0, 0, 0, 0, 0, 0, 0, 1, 0, 0, 0, 0, 0, 0], [0, 0, 0, 0, 0, 0, 0, 0, 0, 0, 1, 1, 1, 0, 1, 0, 0, 0, 0, 0], [0, 0, 0, 0, 0, 0, 0, 0, 0, 0, 0, 0, 0, 1, 0, 0, 1, 1, 0, 0], [0, 0, 0, 0, 0, 0, 0, 0, 0, 0, 0, 0, 0, 0, 0, 0, 1, 0, 0, 0], [0, 0, 0, 0, 0, 0, 0, 0, 0, 0, 0, 0, 0, 0, 1, 1, 0, 0, 0, 0], [0, 0, 0, 0, 0, 0, 0, 0, 0, 0, 0, 0, 0, 0, 1, 0, 0, 0, 1, 0], [0, 0, 0, 0, 0, 0, 0, 0, 0, 0, 0, 0, 0, 0, 0, 0, 0, 1, 0, 1], [0, 0, 0, 0, 0, 0, 0, 0, 0, 0, 0, 0, 0, 0, 0, 0, 0, 0, 1, 0]]\n",
      "(array([0.0413833 , 0.04207394, 0.05995133, 0.04368927, 0.0451841 ,\n",
      "       0.0449788 , 0.04300169, 0.05783146, 0.07530222, 0.05605968,\n",
      "       0.04081132, 0.0570787 , 0.02480953, 0.08145625, 0.06829882,\n",
      "       0.02960758, 0.05201756, 0.0503096 , 0.05519647, 0.03095837]), ['Bucharest'])\n"
     ]
    }
   ],
   "source": [
    "import numpy\n",
    "\n",
    "def pagerank_centrality(graph, damping_factor=0.85, max_iterations=100, tolerance=1e-6):\n",
    "    adj_matrix, node_names = adjacency_matrix(graph)\n",
    "    adj_matrix = numpy.array(adj_matrix)\n",
    "    num_nodes = len(adj_matrix)\n",
    "    pagerank_scores = numpy.ones(num_nodes) / num_nodes\n",
    "\n",
    "    for _ in range(max_iterations):\n",
    "        row_sums = adj_matrix.sum(axis=1, keepdims=True)\n",
    "        transition_matrix = numpy.where(numpy.logical_and(row_sums != 0, ~numpy.isnan(row_sums), ~numpy.isnan(adj_matrix)), adj_matrix / row_sums, 1 / num_nodes)\n",
    "        new_pagerank_scores = (1 - damping_factor) / num_nodes + damping_factor * numpy.dot(transition_matrix.T, pagerank_scores)\n",
    "        if numpy.linalg.norm(new_pagerank_scores - pagerank_scores, 2) < tolerance:\n",
    "            break\n",
    "        pagerank_scores = new_pagerank_scores\n",
    "  \n",
    "    max_centrality = max(pagerank_scores)\n",
    "    top_centrality_nodes = []\n",
    "    for i in range(len(pagerank_scores)):\n",
    "        if pagerank_scores[i] == max_centrality:\n",
    "            top_centrality_nodes.append(node_names[i])\n",
    "\n",
    "    return pagerank_scores, top_centrality_nodes\n",
    "print(pagerank_centrality(romania.romania))\n"
   ]
  },
  {
   "cell_type": "markdown",
   "metadata": {},
   "source": [
    "A function that calculates page rank centrality."
   ]
  },
  {
   "cell_type": "code",
   "execution_count": 129,
   "metadata": {},
   "outputs": [
    {
     "name": "stdout",
     "output_type": "stream",
     "text": [
      "[[0, 1, 0, 0, 0, 0, 0, 0, 1, 0, 0, 0, 0, 0, 0, 0, 0, 0, 0, 0], [1, 0, 1, 0, 0, 0, 0, 0, 0, 0, 0, 0, 0, 0, 0, 0, 0, 0, 0, 0], [0, 1, 0, 1, 0, 0, 0, 0, 1, 0, 0, 0, 0, 0, 0, 0, 0, 0, 0, 0], [0, 0, 1, 0, 1, 0, 0, 0, 0, 0, 0, 0, 0, 0, 0, 0, 0, 0, 0, 0], [0, 0, 0, 1, 0, 1, 0, 0, 0, 0, 0, 0, 0, 0, 0, 0, 0, 0, 0, 0], [0, 0, 0, 0, 1, 0, 1, 0, 0, 0, 0, 0, 0, 0, 0, 0, 0, 0, 0, 0], [0, 0, 0, 0, 0, 1, 0, 1, 0, 0, 0, 0, 0, 0, 0, 0, 0, 0, 0, 0], [0, 0, 0, 0, 0, 0, 1, 0, 0, 1, 0, 1, 0, 0, 0, 0, 0, 0, 0, 0], [1, 0, 1, 0, 0, 0, 0, 0, 0, 1, 1, 0, 0, 0, 0, 0, 0, 0, 0, 0], [0, 0, 0, 0, 0, 0, 0, 1, 1, 0, 0, 1, 0, 0, 0, 0, 0, 0, 0, 0], [0, 0, 0, 0, 0, 0, 0, 0, 1, 0, 0, 0, 0, 1, 0, 0, 0, 0, 0, 0], [0, 0, 0, 0, 0, 0, 0, 1, 0, 1, 0, 0, 0, 1, 0, 0, 0, 0, 0, 0], [0, 0, 0, 0, 0, 0, 0, 0, 0, 0, 0, 0, 0, 1, 0, 0, 0, 0, 0, 0], [0, 0, 0, 0, 0, 0, 0, 0, 0, 0, 1, 1, 1, 0, 1, 0, 0, 0, 0, 0], [0, 0, 0, 0, 0, 0, 0, 0, 0, 0, 0, 0, 0, 1, 0, 0, 1, 1, 0, 0], [0, 0, 0, 0, 0, 0, 0, 0, 0, 0, 0, 0, 0, 0, 0, 0, 1, 0, 0, 0], [0, 0, 0, 0, 0, 0, 0, 0, 0, 0, 0, 0, 0, 0, 1, 1, 0, 0, 0, 0], [0, 0, 0, 0, 0, 0, 0, 0, 0, 0, 0, 0, 0, 0, 1, 0, 0, 0, 1, 0], [0, 0, 0, 0, 0, 0, 0, 0, 0, 0, 0, 0, 0, 0, 0, 0, 0, 1, 0, 1], [0, 0, 0, 0, 0, 0, 0, 0, 0, 0, 0, 0, 0, 0, 0, 0, 0, 0, 1, 0]]\n",
      "(array([0.21754612, 0.21545049, 0.23904113, 0.21495009, 0.21254202,\n",
      "       0.21255234, 0.21506359, 0.24016592, 0.26209313, 0.24444132,\n",
      "       0.22198541, 0.24423681, 0.19577612, 0.25984347, 0.23851894,\n",
      "       0.19106682, 0.21275035, 0.21467789, 0.21034217, 0.190826  ]), [('Sibiu', 0.26209313408459767)])\n"
     ]
    }
   ],
   "source": [
    "\n",
    "\n",
    "def katz_centrality(graph, alpha=0.1, beta=1.0, max_iter=100, tol=1e-6):\n",
    "    adj_matrix, nodes = adjacency_matrix(graph)\n",
    "    n = len(adj_matrix)\n",
    "    \n",
    "  \n",
    "    ketz_centrality = numpy.zeros(n)\n",
    "    beta = numpy.full(n, beta)\n",
    "\n",
    "    for _ in range(max_iter):\n",
    "        \n",
    "        new_ketz_centrality = alpha * numpy.dot(adj_matrix, ketz_centrality) + beta\n",
    "\n",
    "        if numpy.linalg.norm(new_ketz_centrality - ketz_centrality, 2) < tol:\n",
    "            break\n",
    "\n",
    "        ketz_centrality = new_ketz_centrality\n",
    "\n",
    "    ketz_centrality /= numpy.linalg.norm(ketz_centrality)\n",
    "\n",
    "    top_centrality_nodes = []\n",
    "    maximum = max(ketz_centrality)\n",
    "    for i in range(len(ketz_centrality)):\n",
    "        if ketz_centrality[i] == maximum:\n",
    "            top_centrality_nodes.append((nodes[i], ketz_centrality[i]))\n",
    "            \n",
    "    return ketz_centrality, top_centrality_nodes\n",
    "print(katz_centrality(romania.romania))\n"
   ]
  },
  {
   "cell_type": "markdown",
   "metadata": {},
   "source": [
    "A function that calculates katz centrality."
   ]
  },
  {
   "cell_type": "code",
   "execution_count": 130,
   "metadata": {},
   "outputs": [
    {
     "name": "stdout",
     "output_type": "stream",
     "text": [
      "(array([0.07400722, 0.0198556 , 0.35379061, 0.14981949, 0.07400722,\n",
      "       0.10649819, 0.21119134, 0.33754513, 0.64981949, 0.16064982,\n",
      "       0.4765343 , 0.40433213, 0.        , 1.        , 0.82310469,\n",
      "       0.        , 0.19494585, 0.36823105, 0.19494585, 0.        ]), ['Bucharest'])\n"
     ]
    }
   ],
   "source": [
    "\n",
    "\n",
    "def shortest_paths(graph):\n",
    "    nodes = list(graph.nodes.keys())\n",
    "    n = len(nodes)\n",
    "    dist = numpy.full((n, n), numpy.inf)\n",
    "\n",
    " \n",
    "    for i, node in enumerate(nodes):\n",
    "        for neighbor, weight in graph.nodes[node].neighbours:\n",
    "            j = nodes.index(neighbor)\n",
    "            dist[i, j] = weight\n",
    "\n",
    "    for k in range(n):\n",
    "        for i in range(n):\n",
    "            for j in range(n):\n",
    "                dist[i, j] = min(dist[i, j], dist[i, k] + dist[k, j])\n",
    "\n",
    "    return dist\n",
    "\n",
    "\n",
    "def betweenness_centrality(graph):\n",
    "    nodes = list(graph.nodes.keys())\n",
    "    n = len(nodes)\n",
    "    dist = shortest_paths(graph)\n",
    "    betweenness = numpy.zeros(n)\n",
    "\n",
    "    for s in range(n):\n",
    "        stack = []\n",
    "        predecessors = [[] for _ in range(n)]\n",
    "        num_shortest_paths = numpy.zeros(n)\n",
    "        distance = numpy.full(n, -1)\n",
    "        distance[s] = 0\n",
    "        num_shortest_paths[s] = 1\n",
    "\n",
    "        queue = [s]\n",
    "        while queue:\n",
    "            v = queue.pop(0)\n",
    "            stack.append(v)\n",
    "            for neighbor, _ in graph.nodes[nodes[v]].neighbours:\n",
    "                w = nodes.index(neighbor)\n",
    "                if distance[w] < 0:\n",
    "                    queue.append(w)\n",
    "                    distance[w] = distance[v] + 1\n",
    "                if distance[w] == distance[v] + 1:\n",
    "                    num_shortest_paths[w] += num_shortest_paths[v]\n",
    "                    predecessors[w].append(v)\n",
    "\n",
    "        delta = numpy.zeros(n)\n",
    "        while stack:\n",
    "            w = stack.pop()\n",
    "            for v in predecessors[w]:\n",
    "                delta[v] += (num_shortest_paths[v] / num_shortest_paths[w]) * (1 + delta[w])\n",
    "            if w != s:\n",
    "                betweenness[w] += delta[w]\n",
    "\n",
    "    max_betweenness = numpy.max(betweenness)\n",
    "    if max_betweenness > 0:\n",
    "        betweenness /= max_betweenness\n",
    "\n",
    "    top_betweenness_centrality_nodes = [nodes[i] for i in range(n) if betweenness[i] == numpy.max(betweenness)]\n",
    "\n",
    "    return betweenness, top_betweenness_centrality_nodes\n",
    "print(betweenness_centrality(romania.romania))\n",
    "\n"
   ]
  },
  {
   "cell_type": "markdown",
   "metadata": {},
   "source": [
    "A function that calculates betweeness centrality."
   ]
  }
 ],
 "metadata": {
  "kernelspec": {
   "display_name": "Python 3",
   "language": "python",
   "name": "python3"
  },
  "language_info": {
   "codemirror_mode": {
    "name": "ipython",
    "version": 3
   },
   "file_extension": ".py",
   "mimetype": "text/x-python",
   "name": "python",
   "nbconvert_exporter": "python",
   "pygments_lexer": "ipython3",
   "version": "3.10.12"
  }
 },
 "nbformat": 4,
 "nbformat_minor": 2
}
